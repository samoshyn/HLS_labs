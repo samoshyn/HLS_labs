{
 "cells": [
  {
   "cell_type": "code",
   "execution_count": 1,
   "metadata": {},
   "outputs": [],
   "source": [
    "import pandas as pd\n",
    "import numpy as np\n",
    "import random\n",
    "\n",
    "from tqdm.notebook import tqdm"
   ]
  },
  {
   "cell_type": "code",
   "execution_count": 2,
   "metadata": {},
   "outputs": [],
   "source": [
    "#!pip install geopy"
   ]
  },
  {
   "cell_type": "code",
   "execution_count": 3,
   "metadata": {
    "scrolled": true
   },
   "outputs": [],
   "source": [
    "from geopy.distance import geodesic"
   ]
  },
  {
   "cell_type": "code",
   "execution_count": 4,
   "metadata": {},
   "outputs": [],
   "source": [
    "import warnings\n",
    "warnings.filterwarnings('ignore')"
   ]
  },
  {
   "cell_type": "code",
   "execution_count": 5,
   "metadata": {},
   "outputs": [],
   "source": [
    "df = pd.read_csv(\"London postcodes.csv\", delimiter=',')"
   ]
  },
  {
   "cell_type": "code",
   "execution_count": 6,
   "metadata": {},
   "outputs": [
    {
     "data": {
      "text/plain": [
       "(314746, 29)"
      ]
     },
     "execution_count": 6,
     "metadata": {},
     "output_type": "execute_result"
    }
   ],
   "source": [
    "df.shape"
   ]
  },
  {
   "cell_type": "code",
   "execution_count": 7,
   "metadata": {},
   "outputs": [
    {
     "data": {
      "text/html": [
       "<div>\n",
       "<style scoped>\n",
       "    .dataframe tbody tr th:only-of-type {\n",
       "        vertical-align: middle;\n",
       "    }\n",
       "\n",
       "    .dataframe tbody tr th {\n",
       "        vertical-align: top;\n",
       "    }\n",
       "\n",
       "    .dataframe thead th {\n",
       "        text-align: right;\n",
       "    }\n",
       "</style>\n",
       "<table border=\"1\" class=\"dataframe\">\n",
       "  <thead>\n",
       "    <tr style=\"text-align: right;\">\n",
       "      <th></th>\n",
       "      <th>Postcode</th>\n",
       "      <th>In Use?</th>\n",
       "      <th>Latitude</th>\n",
       "      <th>Longitude</th>\n",
       "      <th>Easting</th>\n",
       "      <th>Northing</th>\n",
       "      <th>GridRef</th>\n",
       "      <th>County</th>\n",
       "      <th>District</th>\n",
       "      <th>Ward</th>\n",
       "      <th>...</th>\n",
       "      <th>Population</th>\n",
       "      <th>Households</th>\n",
       "      <th>Built up area</th>\n",
       "      <th>Built up sub-division</th>\n",
       "      <th>Lower layer super output area</th>\n",
       "      <th>Rural/urban</th>\n",
       "      <th>Region</th>\n",
       "      <th>Altitude</th>\n",
       "      <th>London zone</th>\n",
       "      <th>LSOA Code</th>\n",
       "    </tr>\n",
       "  </thead>\n",
       "  <tbody>\n",
       "    <tr>\n",
       "      <th>72815</th>\n",
       "      <td>EN5 2TF</td>\n",
       "      <td>Yes</td>\n",
       "      <td>51.650664</td>\n",
       "      <td>-0.210642</td>\n",
       "      <td>523890</td>\n",
       "      <td>196168</td>\n",
       "      <td>TQ238961</td>\n",
       "      <td>Greater London</td>\n",
       "      <td>Barnet</td>\n",
       "      <td>Underhill</td>\n",
       "      <td>...</td>\n",
       "      <td>30.0</td>\n",
       "      <td>15.0</td>\n",
       "      <td>Greater London</td>\n",
       "      <td>Barnet</td>\n",
       "      <td>Barnet 004F</td>\n",
       "      <td>Urban major conurbation</td>\n",
       "      <td>London</td>\n",
       "      <td>119</td>\n",
       "      <td>5.0</td>\n",
       "      <td>E01000294</td>\n",
       "    </tr>\n",
       "  </tbody>\n",
       "</table>\n",
       "<p>1 rows × 29 columns</p>\n",
       "</div>"
      ],
      "text/plain": [
       "      Postcode In Use?   Latitude  Longitude  Easting  Northing   GridRef  \\\n",
       "72815  EN5 2TF     Yes  51.650664  -0.210642   523890    196168  TQ238961   \n",
       "\n",
       "               County District       Ward  ... Population Households  \\\n",
       "72815  Greater London   Barnet  Underhill  ...       30.0       15.0   \n",
       "\n",
       "        Built up area Built up sub-division Lower layer super output area  \\\n",
       "72815  Greater London                Barnet                   Barnet 004F   \n",
       "\n",
       "                   Rural/urban  Region Altitude  London zone  LSOA Code  \n",
       "72815  Urban major conurbation  London      119          5.0  E01000294  \n",
       "\n",
       "[1 rows x 29 columns]"
      ]
     },
     "execution_count": 7,
     "metadata": {},
     "output_type": "execute_result"
    }
   ],
   "source": [
    "df.sample()"
   ]
  },
  {
   "cell_type": "code",
   "execution_count": 8,
   "metadata": {},
   "outputs": [
    {
     "data": {
      "text/plain": [
       "Index(['Postcode', 'In Use?', 'Latitude', 'Longitude', 'Easting', 'Northing',\n",
       "       'GridRef', 'County', 'District', 'Ward', 'DistrictCode', 'WardCode',\n",
       "       'Country', 'CountyCode', 'Constituency', 'Introduced', 'Terminated',\n",
       "       'Parish', 'NationalPark', 'Population', 'Households', 'Built up area',\n",
       "       'Built up sub-division', 'Lower layer super output area', 'Rural/urban',\n",
       "       'Region', 'Altitude', 'London zone', 'LSOA Code'],\n",
       "      dtype='object')"
      ]
     },
     "execution_count": 8,
     "metadata": {},
     "output_type": "execute_result"
    }
   ],
   "source": [
    "df.columns"
   ]
  },
  {
   "cell_type": "code",
   "execution_count": 9,
   "metadata": {},
   "outputs": [],
   "source": [
    "rides = pd.DataFrame(columns=['driver_id', 'client_id',\\\n",
    "                              'start', 'start_latitude', 'start_longtitude', \\\n",
    "                              'finish', 'finish_latitude', 'finish_longtitude', \\\n",
    "                              'distance', 'road_time', 'start_time', 'finish_time', 'cost', \\\n",
    "                              'driver_rate', 'category_driver_feedback', 'text_driver_feedback',\\\n",
    "                             'client_rate', 'category_client_feedback', 'text_client_feedback'])\n",
    "NUM_RIDES = 5000000"
   ]
  },
  {
   "cell_type": "markdown",
   "metadata": {},
   "source": [
    "Drivers and clients id's"
   ]
  },
  {
   "cell_type": "code",
   "execution_count": 10,
   "metadata": {},
   "outputs": [],
   "source": [
    "rides['driver_id'] = np.random.randint(low=0, high=2500, size=NUM_RIDES)\n",
    "rides['client_id'] = np.random.randint(low=0, high=4500, size=NUM_RIDES)"
   ]
  },
  {
   "cell_type": "markdown",
   "metadata": {},
   "source": [
    "Start and finish points"
   ]
  },
  {
   "cell_type": "code",
   "execution_count": 11,
   "metadata": {},
   "outputs": [],
   "source": [
    "rides[['start', 'start_latitude', 'start_longtitude']] = df[['Postcode', 'Latitude', 'Longitude']].sample(n=NUM_RIDES, replace=True).reset_index(drop=True)"
   ]
  },
  {
   "cell_type": "code",
   "execution_count": 12,
   "metadata": {},
   "outputs": [],
   "source": [
    "rides[['finish', 'finish_latitude', 'finish_longtitude']] = df[['Postcode', 'Latitude', 'Longitude']].sample(n=NUM_RIDES, replace=True).reset_index(drop=True)"
   ]
  },
  {
   "cell_type": "markdown",
   "metadata": {},
   "source": [
    "Start time"
   ]
  },
  {
   "cell_type": "code",
   "execution_count": 13,
   "metadata": {},
   "outputs": [],
   "source": [
    "def random_dates(start, end, n=10):\n",
    "    start_u = start.value//10**9\n",
    "    end_u = end.value//10**9\n",
    "    return pd.to_datetime(np.random.randint(start_u, end_u, n), unit='s')\n",
    "\n",
    "start = pd.to_datetime('2010-01-01')\n",
    "end = pd.to_datetime('2020-01-01')\n",
    "rides['start_time'] = random_dates(start, end, NUM_RIDES)"
   ]
  },
  {
   "cell_type": "markdown",
   "metadata": {},
   "source": [
    "Distance between start and finish points"
   ]
  },
  {
   "cell_type": "code",
   "execution_count": 14,
   "metadata": {},
   "outputs": [
    {
     "data": {
      "application/vnd.jupyter.widget-view+json": {
       "model_id": "848fc8af17114e689bb03526f5ff3e0c",
       "version_major": 2,
       "version_minor": 0
      },
      "text/plain": [
       "  0%|          | 0/5000000 [00:00<?, ?it/s]"
      ]
     },
     "metadata": {},
     "output_type": "display_data"
    }
   ],
   "source": [
    "rides['distance'] = [geodesic((x1, y1), (x2, y2)).km for x1, y1, x2, y2 in tqdm(zip(rides['start_latitude'], \\\n",
    "                                                                                              rides['start_longtitude'], \\\n",
    "                                                                                              rides['finish_latitude'], \\\n",
    "                                                                                              rides['finish_longtitude']), total=NUM_RIDES)]\n",
    "rides['distance'] = rides['distance'].round(2)"
   ]
  },
  {
   "cell_type": "markdown",
   "metadata": {},
   "source": [
    "Calculate road time"
   ]
  },
  {
   "cell_type": "code",
   "execution_count": 15,
   "metadata": {},
   "outputs": [],
   "source": [
    "rides['road_time'] = abs(np.random.normal(size=NUM_RIDES, scale=10)) + rides['distance'] * abs(np.random.normal(size=NUM_RIDES, loc=1, scale=0.25))\n",
    "rides['road_time'] = rides['road_time'].astype('int')\n",
    "rides['road_time'] = pd.to_timedelta(rides['road_time'], unit='m')"
   ]
  },
  {
   "cell_type": "markdown",
   "metadata": {},
   "source": [
    "Calculate finish time"
   ]
  },
  {
   "cell_type": "code",
   "execution_count": 16,
   "metadata": {},
   "outputs": [],
   "source": [
    "rides['finish_time'] = rides['start_time'] + rides['road_time']"
   ]
  },
  {
   "cell_type": "markdown",
   "metadata": {},
   "source": [
    "Calculate cost of the ride"
   ]
  },
  {
   "cell_type": "code",
   "execution_count": 17,
   "metadata": {},
   "outputs": [
    {
     "data": {
      "application/vnd.jupyter.widget-view+json": {
       "model_id": "4ccc6ecd2f1447b198d7c8c19546e26e",
       "version_major": 2,
       "version_minor": 0
      },
      "text/plain": [
       "  0%|          | 0/5000000 [00:00<?, ?it/s]"
      ]
     },
     "metadata": {},
     "output_type": "display_data"
    }
   ],
   "source": [
    "def count_cost(start_time, distance):\n",
    "    cost = 2 + 0.5 * distance\n",
    "    if (start_time.hour >= 8 and start_time.hour <= 9) or \\\n",
    "        (start_time.hour >= 18 and start_time.hour <= 19):\n",
    "        cost *= 1.5\n",
    "    if (start_time.hour >= 22 or start_time.hour <= 6):\n",
    "        cost *= 1.3\n",
    "    return cost\n",
    "    \n",
    "rides['cost'] = [count_cost(s, d) for s, d in tqdm(zip(rides.start_time, rides.distance), total=NUM_RIDES)]\n",
    "rides['cost'] = rides['cost'].round(2)"
   ]
  },
  {
   "cell_type": "markdown",
   "metadata": {},
   "source": [
    "Drivers rates"
   ]
  },
  {
   "cell_type": "code",
   "execution_count": 18,
   "metadata": {},
   "outputs": [],
   "source": [
    "driver_rate_idx = np.random.randint(low=0, high=NUM_RIDES, size=int(NUM_RIDES*0.3))\n",
    "driver_rate_distribution_arr = np.random.multinomial(1, [0.2, 0.05, 0.1, 0.25, 0.4], size=int(NUM_RIDES*0.3))\n",
    "rides['driver_rate'][driver_rate_idx] = np.where(driver_rate_distribution_arr == 1)[1] + 1"
   ]
  },
  {
   "cell_type": "code",
   "execution_count": 19,
   "metadata": {},
   "outputs": [],
   "source": [
    "driver_feedback_categories_good = ['great service', 'nice car', 'wonderful companion', 'neat and tidy', 'expert navigation', 'recommend']\n",
    "driver_feedback_categories_bad = ['awful service', 'bad car', 'unpleasant companion', 'dirty', 'non-expert navigation', 'not recommend']"
   ]
  },
  {
   "cell_type": "code",
   "execution_count": 20,
   "metadata": {},
   "outputs": [],
   "source": [
    "category_driver_good_feedback_idx = np.random.choice(rides[rides.driver_rate > 3].index, size=int(NUM_RIDES*0.3*0.2))\n",
    "rides[\"category_driver_feedback\"][category_driver_good_feedback_idx] = np.random.choice(driver_feedback_categories_good, size=int(NUM_RIDES*0.3*0.2))\n",
    "\n",
    "category_driver_bad_feedback_idx = np.random.choice(rides[rides.driver_rate < 4].index, size=int(NUM_RIDES*0.3*0.2))\n",
    "rides[\"category_driver_feedback\"][category_driver_bad_feedback_idx] = np.random.choice(driver_feedback_categories_bad, size=int(NUM_RIDES*0.3*0.2))"
   ]
  },
  {
   "cell_type": "code",
   "execution_count": 21,
   "metadata": {},
   "outputs": [],
   "source": [
    "text_good_feedback_driver_length = np.random.randint(low=0, high=7, size=int(NUM_RIDES*0.3*0.2))\n",
    "text_good_feedback_driver_sample = [random.sample(driver_feedback_categories_good, i) for i in text_good_feedback_driver_length]\n",
    "rides['text_driver_feedback'][category_driver_good_feedback_idx] = text_good_feedback_driver_sample\n",
    "\n",
    "text_bad_feedback_driver_length = np.random.randint(low=0, high=7, size=int(NUM_RIDES*0.3*0.2))\n",
    "text_bad_feedback_driver_sample = [random.sample(driver_feedback_categories_bad, i) for i in text_bad_feedback_driver_length]\n",
    "rides['text_driver_feedback'][category_driver_bad_feedback_idx] = text_bad_feedback_driver_sample"
   ]
  },
  {
   "cell_type": "markdown",
   "metadata": {},
   "source": [
    "Clients rates"
   ]
  },
  {
   "cell_type": "code",
   "execution_count": 22,
   "metadata": {},
   "outputs": [],
   "source": [
    "client_rate_idx = np.random.randint(low=0, high=NUM_RIDES, size=int(NUM_RIDES*0.5))\n",
    "client_rate_distribution_arr = np.random.multinomial(1, [0.2, 0.05, 0.1, 0.25, 0.4], size=int(NUM_RIDES*0.5))\n",
    "rides['client_rate'][client_rate_idx] = np.where(client_rate_distribution_arr == 1)[1] + 1"
   ]
  },
  {
   "cell_type": "code",
   "execution_count": 23,
   "metadata": {},
   "outputs": [],
   "source": [
    "client_feedback_categories_good = ['polite', 'pleasant', 'quiet', 'neat and tidy', 'recommend']\n",
    "client_feedback_categories_bad = ['unpolite', 'unpleasant', 'loud', 'dirty','not recommend']"
   ]
  },
  {
   "cell_type": "code",
   "execution_count": 24,
   "metadata": {},
   "outputs": [],
   "source": [
    "category_client_good_feedback_idx = np.random.choice(rides[rides.client_rate > 3].index, size=int(NUM_RIDES*0.3*0.2))\n",
    "rides[\"category_client_feedback\"][category_client_good_feedback_idx] = np.random.choice(client_feedback_categories_good, size=int(NUM_RIDES*0.3*0.2))\n",
    "\n",
    "category_client_bad_feedback_idx = np.random.choice(rides[rides.client_rate < 4].index, size=int(NUM_RIDES*0.3*0.2))\n",
    "rides[\"category_client_feedback\"][category_client_bad_feedback_idx] = np.random.choice(client_feedback_categories_bad, size=int(NUM_RIDES*0.3*0.2))"
   ]
  },
  {
   "cell_type": "code",
   "execution_count": 25,
   "metadata": {},
   "outputs": [],
   "source": [
    "text_good_feedback_client_length = np.random.randint(low=0, high=6, size=int(NUM_RIDES*0.3*0.2))\n",
    "text_good_feedback_client_sample = [random.sample(client_feedback_categories_good, i) for i in text_good_feedback_client_length]\n",
    "rides['text_client_feedback'][category_client_good_feedback_idx] = text_good_feedback_client_sample\n",
    "\n",
    "text_bad_feedback_client_length = np.random.randint(low=0, high=6, size=int(NUM_RIDES*0.3*0.2))\n",
    "text_bad_feedback_client_sample = [random.sample(client_feedback_categories_good, i) for i in text_bad_feedback_client_length]\n",
    "rides['text_client_feedback'][category_client_good_feedback_idx] = text_bad_feedback_client_sample"
   ]
  },
  {
   "cell_type": "code",
   "execution_count": 26,
   "metadata": {},
   "outputs": [
    {
     "data": {
      "text/html": [
       "<div>\n",
       "<style scoped>\n",
       "    .dataframe tbody tr th:only-of-type {\n",
       "        vertical-align: middle;\n",
       "    }\n",
       "\n",
       "    .dataframe tbody tr th {\n",
       "        vertical-align: top;\n",
       "    }\n",
       "\n",
       "    .dataframe thead th {\n",
       "        text-align: right;\n",
       "    }\n",
       "</style>\n",
       "<table border=\"1\" class=\"dataframe\">\n",
       "  <thead>\n",
       "    <tr style=\"text-align: right;\">\n",
       "      <th></th>\n",
       "      <th>driver_id</th>\n",
       "      <th>client_id</th>\n",
       "      <th>start</th>\n",
       "      <th>start_latitude</th>\n",
       "      <th>start_longtitude</th>\n",
       "      <th>finish</th>\n",
       "      <th>finish_latitude</th>\n",
       "      <th>finish_longtitude</th>\n",
       "      <th>distance</th>\n",
       "      <th>road_time</th>\n",
       "      <th>start_time</th>\n",
       "      <th>finish_time</th>\n",
       "      <th>cost</th>\n",
       "      <th>driver_rate</th>\n",
       "      <th>category_driver_feedback</th>\n",
       "      <th>text_driver_feedback</th>\n",
       "      <th>client_rate</th>\n",
       "      <th>category_client_feedback</th>\n",
       "      <th>text_client_feedback</th>\n",
       "    </tr>\n",
       "  </thead>\n",
       "  <tbody>\n",
       "    <tr>\n",
       "      <th>0</th>\n",
       "      <td>1074</td>\n",
       "      <td>3799</td>\n",
       "      <td>W11 4NA</td>\n",
       "      <td>51.509660</td>\n",
       "      <td>-0.210998</td>\n",
       "      <td>HA2 8XJ</td>\n",
       "      <td>51.561740</td>\n",
       "      <td>-0.362215</td>\n",
       "      <td>11.99</td>\n",
       "      <td>0 days 00:29:00</td>\n",
       "      <td>2014-07-05 02:54:18</td>\n",
       "      <td>2014-07-05 03:23:18</td>\n",
       "      <td>10.39</td>\n",
       "      <td>NaN</td>\n",
       "      <td>NaN</td>\n",
       "      <td>NaN</td>\n",
       "      <td>5</td>\n",
       "      <td>NaN</td>\n",
       "      <td>NaN</td>\n",
       "    </tr>\n",
       "    <tr>\n",
       "      <th>1</th>\n",
       "      <td>1093</td>\n",
       "      <td>1405</td>\n",
       "      <td>N1 3QY</td>\n",
       "      <td>51.539216</td>\n",
       "      <td>-0.092704</td>\n",
       "      <td>N17 9WT</td>\n",
       "      <td>51.593860</td>\n",
       "      <td>-0.071604</td>\n",
       "      <td>6.25</td>\n",
       "      <td>0 days 00:08:00</td>\n",
       "      <td>2016-10-24 21:22:10</td>\n",
       "      <td>2016-10-24 21:30:10</td>\n",
       "      <td>5.12</td>\n",
       "      <td>NaN</td>\n",
       "      <td>NaN</td>\n",
       "      <td>NaN</td>\n",
       "      <td>NaN</td>\n",
       "      <td>NaN</td>\n",
       "      <td>NaN</td>\n",
       "    </tr>\n",
       "    <tr>\n",
       "      <th>2</th>\n",
       "      <td>1061</td>\n",
       "      <td>3990</td>\n",
       "      <td>SE12 9ZN</td>\n",
       "      <td>51.439238</td>\n",
       "      <td>0.025621</td>\n",
       "      <td>DA16 1NJ</td>\n",
       "      <td>51.465819</td>\n",
       "      <td>0.121836</td>\n",
       "      <td>7.31</td>\n",
       "      <td>0 days 00:13:00</td>\n",
       "      <td>2017-08-27 09:45:41</td>\n",
       "      <td>2017-08-27 09:58:41</td>\n",
       "      <td>8.48</td>\n",
       "      <td>5</td>\n",
       "      <td>NaN</td>\n",
       "      <td>NaN</td>\n",
       "      <td>NaN</td>\n",
       "      <td>NaN</td>\n",
       "      <td>NaN</td>\n",
       "    </tr>\n",
       "    <tr>\n",
       "      <th>3</th>\n",
       "      <td>1191</td>\n",
       "      <td>2980</td>\n",
       "      <td>W1H 5WD</td>\n",
       "      <td>51.514839</td>\n",
       "      <td>-0.158666</td>\n",
       "      <td>W3 9YU</td>\n",
       "      <td>51.500496</td>\n",
       "      <td>-0.276985</td>\n",
       "      <td>8.37</td>\n",
       "      <td>0 days 00:09:00</td>\n",
       "      <td>2015-02-16 04:16:19</td>\n",
       "      <td>2015-02-16 04:25:19</td>\n",
       "      <td>8.04</td>\n",
       "      <td>NaN</td>\n",
       "      <td>NaN</td>\n",
       "      <td>NaN</td>\n",
       "      <td>NaN</td>\n",
       "      <td>NaN</td>\n",
       "      <td>NaN</td>\n",
       "    </tr>\n",
       "    <tr>\n",
       "      <th>4</th>\n",
       "      <td>504</td>\n",
       "      <td>157</td>\n",
       "      <td>TW5 0TS</td>\n",
       "      <td>51.479423</td>\n",
       "      <td>-0.363307</td>\n",
       "      <td>E9 5FL</td>\n",
       "      <td>51.532724</td>\n",
       "      <td>-0.060419</td>\n",
       "      <td>21.85</td>\n",
       "      <td>0 days 00:19:00</td>\n",
       "      <td>2015-08-05 20:59:17</td>\n",
       "      <td>2015-08-05 21:18:17</td>\n",
       "      <td>12.92</td>\n",
       "      <td>1</td>\n",
       "      <td>dirty</td>\n",
       "      <td>[non-expert navigation, dirty, not recommend, ...</td>\n",
       "      <td>NaN</td>\n",
       "      <td>NaN</td>\n",
       "      <td>NaN</td>\n",
       "    </tr>\n",
       "  </tbody>\n",
       "</table>\n",
       "</div>"
      ],
      "text/plain": [
       "   driver_id  client_id     start  start_latitude  start_longtitude    finish  \\\n",
       "0       1074       3799   W11 4NA       51.509660         -0.210998   HA2 8XJ   \n",
       "1       1093       1405    N1 3QY       51.539216         -0.092704   N17 9WT   \n",
       "2       1061       3990  SE12 9ZN       51.439238          0.025621  DA16 1NJ   \n",
       "3       1191       2980   W1H 5WD       51.514839         -0.158666    W3 9YU   \n",
       "4        504        157   TW5 0TS       51.479423         -0.363307    E9 5FL   \n",
       "\n",
       "   finish_latitude  finish_longtitude  distance       road_time  \\\n",
       "0        51.561740          -0.362215     11.99 0 days 00:29:00   \n",
       "1        51.593860          -0.071604      6.25 0 days 00:08:00   \n",
       "2        51.465819           0.121836      7.31 0 days 00:13:00   \n",
       "3        51.500496          -0.276985      8.37 0 days 00:09:00   \n",
       "4        51.532724          -0.060419     21.85 0 days 00:19:00   \n",
       "\n",
       "           start_time         finish_time   cost driver_rate  \\\n",
       "0 2014-07-05 02:54:18 2014-07-05 03:23:18  10.39         NaN   \n",
       "1 2016-10-24 21:22:10 2016-10-24 21:30:10   5.12         NaN   \n",
       "2 2017-08-27 09:45:41 2017-08-27 09:58:41   8.48           5   \n",
       "3 2015-02-16 04:16:19 2015-02-16 04:25:19   8.04         NaN   \n",
       "4 2015-08-05 20:59:17 2015-08-05 21:18:17  12.92           1   \n",
       "\n",
       "  category_driver_feedback                               text_driver_feedback  \\\n",
       "0                      NaN                                                NaN   \n",
       "1                      NaN                                                NaN   \n",
       "2                      NaN                                                NaN   \n",
       "3                      NaN                                                NaN   \n",
       "4                    dirty  [non-expert navigation, dirty, not recommend, ...   \n",
       "\n",
       "  client_rate category_client_feedback text_client_feedback  \n",
       "0           5                      NaN                  NaN  \n",
       "1         NaN                      NaN                  NaN  \n",
       "2         NaN                      NaN                  NaN  \n",
       "3         NaN                      NaN                  NaN  \n",
       "4         NaN                      NaN                  NaN  "
      ]
     },
     "execution_count": 26,
     "metadata": {},
     "output_type": "execute_result"
    }
   ],
   "source": [
    "rides.head()"
   ]
  },
  {
   "cell_type": "code",
   "execution_count": 27,
   "metadata": {},
   "outputs": [],
   "source": [
    "rides.to_csv(\"data/rides.csv\")"
   ]
  }
 ],
 "metadata": {
  "kernelspec": {
   "display_name": "Python 3 (ipykernel)",
   "language": "python",
   "name": "python3"
  },
  "language_info": {
   "codemirror_mode": {
    "name": "ipython",
    "version": 3
   },
   "file_extension": ".py",
   "mimetype": "text/x-python",
   "name": "python",
   "nbconvert_exporter": "python",
   "pygments_lexer": "ipython3",
   "version": "3.9.7"
  }
 },
 "nbformat": 4,
 "nbformat_minor": 4
}
